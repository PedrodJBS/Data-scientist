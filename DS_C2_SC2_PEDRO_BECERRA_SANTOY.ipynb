{
  "nbformat": 4,
  "nbformat_minor": 0,
  "metadata": {
    "colab": {
      "provenance": [],
      "include_colab_link": true
    },
    "kernelspec": {
      "name": "python3",
      "display_name": "Python 3"
    },
    "language_info": {
      "name": "python"
    }
  },
  "cells": [
    {
      "cell_type": "markdown",
      "metadata": {
        "id": "view-in-github",
        "colab_type": "text"
      },
      "source": [
        "<a href=\"https://colab.research.google.com/github/PedrodJBS/Data-scientist/blob/main/DS_C2_SC2_PEDRO_BECERRA_SANTOY.ipynb\" target=\"_parent\"><img src=\"https://colab.research.google.com/assets/colab-badge.svg\" alt=\"Open In Colab\"/></a>"
      ]
    },
    {
      "cell_type": "markdown",
      "source": [
        "Extrae la informacion del archivo"
      ],
      "metadata": {
        "id": "djn3xG4GRuKB"
      }
    },
    {
      "cell_type": "code",
      "source": [
        "import pandas as pd\n",
        "\n",
        "ruta_csv = '/content/country_vaccinations.csv'\n",
        "df = pd.read_csv(ruta_csv)\n",
        "\n",
        "print(df.head())\n",
        "print(\"Filas:\", len(df))\n",
        "print(\"Columnas:\", df.columns.tolist())\n"
      ],
      "metadata": {
        "colab": {
          "base_uri": "https://localhost:8080/"
        },
        "id": "A7DEeUW3Sf9z",
        "outputId": "ca3fb778-bb3c-471e-caa6-accb4803c3a9"
      },
      "execution_count": null,
      "outputs": [
        {
          "output_type": "stream",
          "name": "stdout",
          "text": [
            "       country iso_code        date  total_vaccinations  people_vaccinated  \\\n",
            "0  Afghanistan      AFG  2021-02-22                 0.0                0.0   \n",
            "1  Afghanistan      AFG  2021-02-23                 NaN                NaN   \n",
            "2  Afghanistan      AFG  2021-02-24                 NaN                NaN   \n",
            "3  Afghanistan      AFG  2021-02-25                 NaN                NaN   \n",
            "4  Afghanistan      AFG  2021-02-26                 NaN                NaN   \n",
            "\n",
            "   people_fully_vaccinated  daily_vaccinations_raw  daily_vaccinations  \\\n",
            "0                      NaN                     NaN                 NaN   \n",
            "1                      NaN                     NaN              1367.0   \n",
            "2                      NaN                     NaN              1367.0   \n",
            "3                      NaN                     NaN              1367.0   \n",
            "4                      NaN                     NaN              1367.0   \n",
            "\n",
            "   total_vaccinations_per_hundred  people_vaccinated_per_hundred  \\\n",
            "0                             0.0                            0.0   \n",
            "1                             NaN                            NaN   \n",
            "2                             NaN                            NaN   \n",
            "3                             NaN                            NaN   \n",
            "4                             NaN                            NaN   \n",
            "\n",
            "   people_fully_vaccinated_per_hundred  daily_vaccinations_per_million  \\\n",
            "0                                  NaN                             NaN   \n",
            "1                                  NaN                            34.0   \n",
            "2                                  NaN                            34.0   \n",
            "3                                  NaN                            34.0   \n",
            "4                                  NaN                            34.0   \n",
            "\n",
            "                                            vaccines  \\\n",
            "0  Johnson&Johnson, Oxford/AstraZeneca, Pfizer/Bi...   \n",
            "1  Johnson&Johnson, Oxford/AstraZeneca, Pfizer/Bi...   \n",
            "2  Johnson&Johnson, Oxford/AstraZeneca, Pfizer/Bi...   \n",
            "3  Johnson&Johnson, Oxford/AstraZeneca, Pfizer/Bi...   \n",
            "4  Johnson&Johnson, Oxford/AstraZeneca, Pfizer/Bi...   \n",
            "\n",
            "                 source_name            source_website  \n",
            "0  World Health Organization  https://covid19.who.int/  \n",
            "1  World Health Organization  https://covid19.who.int/  \n",
            "2  World Health Organization  https://covid19.who.int/  \n",
            "3  World Health Organization  https://covid19.who.int/  \n",
            "4  World Health Organization  https://covid19.who.int/  \n",
            "Filas: 86512\n",
            "Columnas: ['country', 'iso_code', 'date', 'total_vaccinations', 'people_vaccinated', 'people_fully_vaccinated', 'daily_vaccinations_raw', 'daily_vaccinations', 'total_vaccinations_per_hundred', 'people_vaccinated_per_hundred', 'people_fully_vaccinated_per_hundred', 'daily_vaccinations_per_million', 'vaccines', 'source_name', 'source_website']\n"
          ]
        }
      ]
    },
    {
      "cell_type": "markdown",
      "source": [
        "Mostrar la estructura y tipos de datos de cada columna para identificar qué operaciones puedes realizar con cada una de ellas, asegurándote que las columnas con fechas sean del tipo datetime64."
      ],
      "metadata": {
        "id": "hMLcFwHMTu7V"
      }
    },
    {
      "cell_type": "code",
      "source": [
        "import pandas as pd\n",
        "\n",
        "df = pd.read_csv('/content/country_vaccinations.csv')\n",
        "df['date'] = pd.to_datetime(df['date'], errors='coerce')\n",
        "\n",
        "print(\"Dimensiones:\", df.shape)\n",
        "print(\"\\nColumnas:\", df.columns.tolist())\n",
        "print(\"\\nTipos de datos:\\n\", df.dtypes)\n",
        "print(\"\\nValores nulos por columna:\\n\", df.isnull().sum())\n"
      ],
      "metadata": {
        "colab": {
          "base_uri": "https://localhost:8080/"
        },
        "id": "J2AaAM0RTuXy",
        "outputId": "12b0128a-ef2c-419e-b8c5-1444ac29acdb"
      },
      "execution_count": null,
      "outputs": [
        {
          "output_type": "stream",
          "name": "stdout",
          "text": [
            "Dimensiones: (86512, 15)\n",
            "\n",
            "Columnas: ['country', 'iso_code', 'date', 'total_vaccinations', 'people_vaccinated', 'people_fully_vaccinated', 'daily_vaccinations_raw', 'daily_vaccinations', 'total_vaccinations_per_hundred', 'people_vaccinated_per_hundred', 'people_fully_vaccinated_per_hundred', 'daily_vaccinations_per_million', 'vaccines', 'source_name', 'source_website']\n",
            "\n",
            "Tipos de datos:\n",
            " country                                        object\n",
            "iso_code                                       object\n",
            "date                                   datetime64[ns]\n",
            "total_vaccinations                            float64\n",
            "people_vaccinated                             float64\n",
            "people_fully_vaccinated                       float64\n",
            "daily_vaccinations_raw                        float64\n",
            "daily_vaccinations                            float64\n",
            "total_vaccinations_per_hundred                float64\n",
            "people_vaccinated_per_hundred                 float64\n",
            "people_fully_vaccinated_per_hundred           float64\n",
            "daily_vaccinations_per_million                float64\n",
            "vaccines                                       object\n",
            "source_name                                    object\n",
            "source_website                                 object\n",
            "dtype: object\n",
            "\n",
            "Valores nulos por columna:\n",
            " country                                    0\n",
            "iso_code                                   0\n",
            "date                                       0\n",
            "total_vaccinations                     42905\n",
            "people_vaccinated                      45218\n",
            "people_fully_vaccinated                47710\n",
            "daily_vaccinations_raw                 51150\n",
            "daily_vaccinations                       299\n",
            "total_vaccinations_per_hundred         42905\n",
            "people_vaccinated_per_hundred          45218\n",
            "people_fully_vaccinated_per_hundred    47710\n",
            "daily_vaccinations_per_million           299\n",
            "vaccines                                   0\n",
            "source_name                                0\n",
            "source_website                             0\n",
            "dtype: int64\n"
          ]
        }
      ]
    },
    {
      "cell_type": "markdown",
      "source": [
        "Determinar la cantidad de vacunas aplicadas de cada compañía (con base en cómo lo reporta cada país en la columna vaccines, en otras palabras, agrupe por vaccines y realice la sumatoria).\n"
      ],
      "metadata": {
        "id": "XuARVrLFVamZ"
      }
    },
    {
      "cell_type": "code",
      "source": [
        "import pandas as pd\n",
        "\n",
        "df = pd.read_csv('/content/country_vaccinations.csv')\n",
        "df['date'] = pd.to_datetime(df['date'], errors='coerce')\n",
        "vacunas_por_compania = df.groupby('vaccines')['total_vaccinations'].sum().sort_values(ascending=False)\n",
        "print(vacunas_por_compania)\n"
      ],
      "metadata": {
        "colab": {
          "base_uri": "https://localhost:8080/"
        },
        "id": "E_hVgFQmVdXP",
        "outputId": "7ef6587c-de0b-44b1-a4b9-b8aeff970750"
      },
      "execution_count": null,
      "outputs": [
        {
          "output_type": "stream",
          "name": "stdout",
          "text": [
            "vaccines\n",
            "CanSino, Sinopharm/Beijing, Sinopharm/Wuhan, Sinovac, ZF2001     7.094527e+11\n",
            "Covaxin, Oxford/AstraZeneca, Sputnik V                           3.234403e+11\n",
            "Johnson&Johnson, Moderna, Pfizer/BioNTech                        1.617576e+11\n",
            "Moderna, Oxford/AstraZeneca, Pfizer/BioNTech                     1.153913e+11\n",
            "Johnson&Johnson, Moderna, Oxford/AstraZeneca, Pfizer/BioNTech    9.962579e+10\n",
            "                                                                     ...     \n",
            "Pfizer/BioNTech, Sinopharm/Beijing, Sputnik V                    6.915494e+06\n",
            "Oxford/AstraZeneca, Pfizer/BioNTech, Sputnik V                   6.840405e+06\n",
            "Moderna                                                          6.531798e+06\n",
            "Johnson&Johnson, Moderna                                         4.984467e+06\n",
            "Pfizer/BioNTech, Sputnik V                                       3.863380e+06\n",
            "Name: total_vaccinations, Length: 84, dtype: float64\n"
          ]
        }
      ]
    },
    {
      "cell_type": "markdown",
      "source": [
        "Obtener la cantidad de vacunas aplicadas en todo el mundo."
      ],
      "metadata": {
        "id": "-zkYk0uUV5R7"
      }
    },
    {
      "cell_type": "code",
      "source": [
        "import pandas as pd\n",
        "\n",
        "df = pd.read_csv('/content/country_vaccinations.csv')\n",
        "df['date'] = pd.to_datetime(df['date'], errors='coerce')\n",
        "total_mundial = df['total_vaccinations'].sum()\n",
        "print(f\"Total de vacunas aplicadas en todo el mundo: {total_mundial:,.0f}\")"
      ],
      "metadata": {
        "colab": {
          "base_uri": "https://localhost:8080/"
        },
        "id": "bFOD28T8V8Uy",
        "outputId": "759c2125-b6e6-4469-a509-0d6734d63208"
      },
      "execution_count": null,
      "outputs": [
        {
          "output_type": "stream",
          "name": "stdout",
          "text": [
            "Total de vacunas aplicadas en todo el mundo: 2,002,854,013,761\n"
          ]
        }
      ]
    },
    {
      "cell_type": "markdown",
      "source": [
        "Calcular el promedio de vacunas aplicadas por país."
      ],
      "metadata": {
        "id": "QeIdj3jaWAoz"
      }
    },
    {
      "cell_type": "code",
      "source": [
        "import pandas as pd\n",
        "\n",
        "df = pd.read_csv('/content/country_vaccinations.csv')\n",
        "df['date'] = pd.to_datetime(df['date'], errors='coerce')\n",
        "promedio_por_pais = df.groupby('country')['total_vaccinations'].mean().sort_values(ascending=False)\n",
        "print(promedio_por_pais)"
      ],
      "metadata": {
        "colab": {
          "base_uri": "https://localhost:8080/"
        },
        "id": "gNtBkkwjWDI0",
        "outputId": "b56c99a2-5760-401d-a157-588111f09f17"
      },
      "execution_count": null,
      "outputs": [
        {
          "output_type": "stream",
          "name": "stdout",
          "text": [
            "country\n",
            "China               1.842734e+09\n",
            "India               7.557016e+08\n",
            "United States       3.291165e+08\n",
            "Brazil              1.838771e+08\n",
            "Indonesia           1.192998e+08\n",
            "                        ...     \n",
            "Montserrat          2.740229e+03\n",
            "Falkland Islands    2.360500e+03\n",
            "Niue                1.842500e+03\n",
            "Tokelau             9.642500e+02\n",
            "Pitcairn            6.960000e+01\n",
            "Name: total_vaccinations, Length: 223, dtype: float64\n"
          ]
        }
      ]
    },
    {
      "cell_type": "markdown",
      "source": [
        "Determinar la cantidad de vacunas aplicadas el día 29/01/21 en todo el mundo."
      ],
      "metadata": {
        "id": "isIvcoGIWI8S"
      }
    },
    {
      "cell_type": "code",
      "source": [
        "import pandas as pd\n",
        "\n",
        "df = pd.read_csv('/content/country_vaccinations.csv')\n",
        "df['date'] = pd.to_datetime(df['date'], errors='coerce')\n",
        "fecha_objetivo = pd.Timestamp('2021-01-29')\n",
        "vacunas_en_fecha = df[df['date'] == fecha_objetivo]\n",
        "total_vacunas = vacunas_en_fecha['daily_vaccinations'].sum()\n",
        "\n",
        "print(f\"Total de vacunas aplicadas el 29/01/2021 en todo el mundo: {int(total_vacunas):,}\")"
      ],
      "metadata": {
        "colab": {
          "base_uri": "https://localhost:8080/"
        },
        "id": "FEMVlnYDWOoo",
        "outputId": "2524fb74-73ac-4c16-afd9-4e2332611df1"
      },
      "execution_count": null,
      "outputs": [
        {
          "output_type": "stream",
          "name": "stdout",
          "text": [
            "Total de vacunas aplicadas el 29/01/2021 en todo el mundo: 4,884,052\n"
          ]
        }
      ]
    },
    {
      "cell_type": "markdown",
      "source": [
        "Crear un dataframe nuevo denominado conDiferencias que contenga los datos originales y una columna derivada (diferencias) con las diferencias de aplicación entre las columnas daily_vaccionations y daily_vaccionations_raw.  "
      ],
      "metadata": {
        "id": "BcH5K4_JWV5d"
      }
    },
    {
      "cell_type": "code",
      "source": [
        "import pandas as pd\n",
        "\n",
        "df = pd.read_csv('/content/country_vaccinations.csv')\n",
        "conDiferencias = df.copy()\n",
        "conDiferencias['diferencias'] = conDiferencias['daily_vaccinations'] - conDiferencias['daily_vaccinations_raw']\n",
        "print(conDiferencias.head())"
      ],
      "metadata": {
        "colab": {
          "base_uri": "https://localhost:8080/"
        },
        "id": "YtoHrGUXWgQO",
        "outputId": "b86863c1-9735-423e-81e6-10e288e954a8"
      },
      "execution_count": null,
      "outputs": [
        {
          "output_type": "stream",
          "name": "stdout",
          "text": [
            "       country iso_code        date  total_vaccinations  people_vaccinated  \\\n",
            "0  Afghanistan      AFG  2021-02-22                 0.0                0.0   \n",
            "1  Afghanistan      AFG  2021-02-23                 NaN                NaN   \n",
            "2  Afghanistan      AFG  2021-02-24                 NaN                NaN   \n",
            "3  Afghanistan      AFG  2021-02-25                 NaN                NaN   \n",
            "4  Afghanistan      AFG  2021-02-26                 NaN                NaN   \n",
            "\n",
            "   people_fully_vaccinated  daily_vaccinations_raw  daily_vaccinations  \\\n",
            "0                      NaN                     NaN                 NaN   \n",
            "1                      NaN                     NaN              1367.0   \n",
            "2                      NaN                     NaN              1367.0   \n",
            "3                      NaN                     NaN              1367.0   \n",
            "4                      NaN                     NaN              1367.0   \n",
            "\n",
            "   total_vaccinations_per_hundred  people_vaccinated_per_hundred  \\\n",
            "0                             0.0                            0.0   \n",
            "1                             NaN                            NaN   \n",
            "2                             NaN                            NaN   \n",
            "3                             NaN                            NaN   \n",
            "4                             NaN                            NaN   \n",
            "\n",
            "   people_fully_vaccinated_per_hundred  daily_vaccinations_per_million  \\\n",
            "0                                  NaN                             NaN   \n",
            "1                                  NaN                            34.0   \n",
            "2                                  NaN                            34.0   \n",
            "3                                  NaN                            34.0   \n",
            "4                                  NaN                            34.0   \n",
            "\n",
            "                                            vaccines  \\\n",
            "0  Johnson&Johnson, Oxford/AstraZeneca, Pfizer/Bi...   \n",
            "1  Johnson&Johnson, Oxford/AstraZeneca, Pfizer/Bi...   \n",
            "2  Johnson&Johnson, Oxford/AstraZeneca, Pfizer/Bi...   \n",
            "3  Johnson&Johnson, Oxford/AstraZeneca, Pfizer/Bi...   \n",
            "4  Johnson&Johnson, Oxford/AstraZeneca, Pfizer/Bi...   \n",
            "\n",
            "                 source_name            source_website  diferencias  \n",
            "0  World Health Organization  https://covid19.who.int/          NaN  \n",
            "1  World Health Organization  https://covid19.who.int/          NaN  \n",
            "2  World Health Organization  https://covid19.who.int/          NaN  \n",
            "3  World Health Organization  https://covid19.who.int/          NaN  \n",
            "4  World Health Organization  https://covid19.who.int/          NaN  \n"
          ]
        }
      ]
    },
    {
      "cell_type": "markdown",
      "source": [
        "Ruta de archivo creado para visualizacion de consulta de columna de diferencias '/content/conDiferencias.csv'"
      ],
      "metadata": {
        "id": "u-OH3MdkW-QR"
      }
    },
    {
      "cell_type": "code",
      "source": [
        "import pandas as pd\n",
        "\n",
        "df = pd.read_csv('/content/country_vaccinations.csv')\n",
        "\n",
        "conDiferencias = df.copy()\n",
        "conDiferencias['diferencias'] = conDiferencias['daily_vaccinations'] - conDiferencias['daily_vaccinations_raw']\n",
        "conDiferencias.to_csv('/content/conDiferencias.csv', index=False)\n",
        "\n",
        "print(\"Archivo 'conDiferencias.csv' creado exitosamente.\")\n"
      ],
      "metadata": {
        "colab": {
          "base_uri": "https://localhost:8080/"
        },
        "id": "p-NCzi5tW3mH",
        "outputId": "98bf20f0-4c6e-4403-c9dc-4528e7ed2420"
      },
      "execution_count": null,
      "outputs": [
        {
          "output_type": "stream",
          "name": "stdout",
          "text": [
            "Archivo 'conDiferencias.csv' creado exitosamente.\n"
          ]
        }
      ]
    },
    {
      "cell_type": "markdown",
      "source": [
        "Obtener el periodo de tiempo entre el registro con fecha más reciente y el registro con fecha más antigua."
      ],
      "metadata": {
        "id": "P5YMp8H-XLct"
      }
    },
    {
      "cell_type": "code",
      "source": [
        "import pandas as pd\n",
        "\n",
        "df = pd.read_csv('/content/country_vaccinations.csv')\n",
        "\n",
        "df['date'] = pd.to_datetime(df['date'], errors='coerce')\n",
        "\n",
        "fecha_min = df['date'].min()\n",
        "fecha_max = df['date'].max()\n",
        "\n",
        "periodo = fecha_max - fecha_min\n",
        "\n",
        "print(f\"Fecha más antigua: {fecha_min.date()}\")\n",
        "print(f\"Fecha más reciente: {fecha_max.date()}\")\n",
        "print(f\"Periodo total: {periodo.days} días\")"
      ],
      "metadata": {
        "colab": {
          "base_uri": "https://localhost:8080/"
        },
        "id": "lws-P7liXMgT",
        "outputId": "13d152e8-a5e1-403c-eefe-7a009a3d1e64"
      },
      "execution_count": null,
      "outputs": [
        {
          "output_type": "stream",
          "name": "stdout",
          "text": [
            "Fecha más antigua: 2020-12-02\n",
            "Fecha más reciente: 2022-03-29\n",
            "Periodo total: 482 días\n"
          ]
        }
      ]
    },
    {
      "cell_type": "markdown",
      "source": [
        "Crear un dataframe nuevo denominado conCantidad que contenga los datos originales y una columna derivada (canVac) con la cantidad de vacunas utilizadas cada día (usar la columna vaccines y separar por el carácter , )."
      ],
      "metadata": {
        "id": "AZk5iqMUXR61"
      }
    },
    {
      "cell_type": "code",
      "source": [
        "import pandas as pd\n",
        "\n",
        "df = pd.read_csv('/content/country_vaccinations.csv')\n",
        "\n",
        "conCantidad = df.copy()\n",
        "conCantidad['canVac'] = conCantidad['vaccines'].apply(lambda x: len(str(x).split(',')))\n",
        "\n",
        "conCantidad.to_csv('/content/conCantidad.csv', index=False)\n",
        "\n",
        "print(\"Archivo 'conCantidad.csv' creado exitosamente.\")"
      ],
      "metadata": {
        "colab": {
          "base_uri": "https://localhost:8080/"
        },
        "id": "y-tVJ8kdXVL6",
        "outputId": "ae76d015-b310-4689-9c68-bccca09de87c"
      },
      "execution_count": null,
      "outputs": [
        {
          "output_type": "stream",
          "name": "stdout",
          "text": [
            "Archivo 'conCantidad.csv' creado exitosamente.\n"
          ]
        }
      ]
    },
    {
      "cell_type": "markdown",
      "source": [
        "Generar un dataframe denominado antes20 con todos los registros que se hayan realizado antes del 20 de diciembre de 2020."
      ],
      "metadata": {
        "id": "LqsyW3WpXn2j"
      }
    },
    {
      "cell_type": "code",
      "source": [
        "import pandas as pd\n",
        "\n",
        "df = pd.read_csv('/content/country_vaccinations.csv')\n",
        "df['date'] = pd.to_datetime(df['date'], errors='coerce')\n",
        "\n",
        "antes20 = df[df['date'] < pd.Timestamp('2020-12-20')]\n",
        "\n",
        "antes20.to_csv('/content/antes20.csv', index=False)\n",
        "\n",
        "print(\"Archivo 'antes20.csv' creado exitosamente.\")"
      ],
      "metadata": {
        "colab": {
          "base_uri": "https://localhost:8080/"
        },
        "id": "PoT8qlXIXpHY",
        "outputId": "f5c38102-b9ec-4314-cfa5-62a76dfed455"
      },
      "execution_count": null,
      "outputs": [
        {
          "output_type": "stream",
          "name": "stdout",
          "text": [
            "Archivo 'antes20.csv' creado exitosamente.\n"
          ]
        }
      ]
    },
    {
      "cell_type": "markdown",
      "source": [
        "Obtener un dataframe denominado pfizer con todos los registros donde se haya utilizado la vacuna Pfizer."
      ],
      "metadata": {
        "id": "jRDol7gEXwfa"
      }
    },
    {
      "cell_type": "code",
      "source": [
        "import pandas as pd\n",
        "\n",
        "df = pd.read_csv('/content/country_vaccinations.csv')\n",
        "df['vaccines'] = df['vaccines'].astype(str)\n",
        "\n",
        "pfizer = df[df['vaccines'].str.contains('Pfizer', case=False, na=False)]\n",
        "\n",
        "pfizer.to_csv('/content/pfizer.csv', index=False)\n",
        "\n",
        "print(\"Archivo 'pfizer.csv' creado exitosamente.\")\n",
        "\n"
      ],
      "metadata": {
        "colab": {
          "base_uri": "https://localhost:8080/"
        },
        "id": "DdbVunSxXyVy",
        "outputId": "d053ce1e-b723-464b-ad87-8887fe1aeecd"
      },
      "execution_count": null,
      "outputs": [
        {
          "output_type": "stream",
          "name": "stdout",
          "text": [
            "Archivo 'pfizer.csv' creado exitosamente.\n"
          ]
        }
      ]
    },
    {
      "cell_type": "markdown",
      "source": [
        "Almacenar los dataframes generados (conDiferencias, conCantidad, antes20 y pfizer) en un archivo de Excel denominado resultadosReto.xlsx, donde cada dataframe ocupe una hoja diferente. Se recomienda ver la documentación de pd.ExcelWriter."
      ],
      "metadata": {
        "id": "2r1jBqCzYwUi"
      }
    },
    {
      "cell_type": "code",
      "source": [
        "!pip install xlsxwriter"
      ],
      "metadata": {
        "colab": {
          "base_uri": "https://localhost:8080/"
        },
        "id": "tXDgA8YXYyuY",
        "outputId": "4e65ee02-0903-4e0a-e1df-712668fcf2a5"
      },
      "execution_count": null,
      "outputs": [
        {
          "output_type": "stream",
          "name": "stdout",
          "text": [
            "Collecting xlsxwriter\n",
            "  Downloading xlsxwriter-3.2.5-py3-none-any.whl.metadata (2.7 kB)\n",
            "Downloading xlsxwriter-3.2.5-py3-none-any.whl (172 kB)\n",
            "\u001b[?25l   \u001b[90m━━━━━━━━━━━━━━━━━━━━━━━━━━━━━━━━━━━━━━━━\u001b[0m \u001b[32m0.0/172.3 kB\u001b[0m \u001b[31m?\u001b[0m eta \u001b[36m-:--:--\u001b[0m\r\u001b[2K   \u001b[91m━━━━━━━━━━━━━━━━━━━━━━━━━━━━━━━━━━━━━━\u001b[0m\u001b[90m╺\u001b[0m\u001b[90m━\u001b[0m \u001b[32m163.8/172.3 kB\u001b[0m \u001b[31m5.6 MB/s\u001b[0m eta \u001b[36m0:00:01\u001b[0m\r\u001b[2K   \u001b[90m━━━━━━━━━━━━━━━━━━━━━━━━━━━━━━━━━━━━━━━━\u001b[0m \u001b[32m172.3/172.3 kB\u001b[0m \u001b[31m4.2 MB/s\u001b[0m eta \u001b[36m0:00:00\u001b[0m\n",
            "\u001b[?25hInstalling collected packages: xlsxwriter\n",
            "Successfully installed xlsxwriter-3.2.5\n"
          ]
        }
      ]
    },
    {
      "cell_type": "code",
      "source": [
        "import pandas as pd\n",
        "\n",
        "required_dfs = ['conDiferencias', 'conCantidad', 'antes20', 'pfizer']\n",
        "for name in required_dfs:\n",
        "    if name not in globals():\n",
        "        raise ValueError(f\"El DataFrame '{name}' no está definido.\")\n",
        "\n",
        "with pd.ExcelWriter('/content/resultadosReto.xlsx', engine='xlsxwriter') as writer:\n",
        "    conDiferencias.to_excel(writer, sheet_name='Diferencias', index=False)\n",
        "    conCantidad.to_excel(writer, sheet_name='Cantidad', index=False)\n",
        "    antes20.to_excel(writer, sheet_name='Antes20', index=False)\n",
        "    pfizer.to_excel(writer, sheet_name='Pfizer', index=False)\n",
        "\n",
        "print(\"✅ Archivo 'resultadosReto.xlsx' creado exitosamente.\")"
      ],
      "metadata": {
        "colab": {
          "base_uri": "https://localhost:8080/"
        },
        "id": "1__t9jQ_ZMdB",
        "outputId": "f15c65d0-1e93-4947-f3ed-db0508bf1dd8"
      },
      "execution_count": null,
      "outputs": [
        {
          "output_type": "stream",
          "name": "stderr",
          "text": [
            "/usr/local/lib/python3.11/dist-packages/xlsxwriter/worksheet.py:1267: UserWarning: Ignoring URL 'https://ais.paho.org/imm/IM_DosisAdmin-Vacunacion.asp' since it exceeds Excel's limit of 65,530 URLs per worksheet.\n",
            "  warn(\n",
            "/usr/local/lib/python3.11/dist-packages/xlsxwriter/worksheet.py:1267: UserWarning: Ignoring URL 'https://web.facebook.com/SVGHEALTH/posts/437021804887233' since it exceeds Excel's limit of 65,530 URLs per worksheet.\n",
            "  warn(\n",
            "/usr/local/lib/python3.11/dist-packages/xlsxwriter/worksheet.py:1267: UserWarning: Ignoring URL 'https://stats.pacificdata.org/vis?tm=covid&pg=0&df[ds]=SPC2&df[id]=DF_COVID_VACCINATION&df[ag]=SPC&df[vs]=1.0' since it exceeds Excel's limit of 65,530 URLs per worksheet.\n",
            "  warn(\n",
            "/usr/local/lib/python3.11/dist-packages/xlsxwriter/worksheet.py:1267: UserWarning: Ignoring URL 'https://covid19.who.int/' since it exceeds Excel's limit of 65,530 URLs per worksheet.\n",
            "  warn(\n",
            "/usr/local/lib/python3.11/dist-packages/xlsxwriter/worksheet.py:1267: UserWarning: Ignoring URL 'https://africacdc.org/covid-19-vaccination/' since it exceeds Excel's limit of 65,530 URLs per worksheet.\n",
            "  warn(\n",
            "/usr/local/lib/python3.11/dist-packages/xlsxwriter/worksheet.py:1267: UserWarning: Ignoring URL 'https://coronavirus.data.gov.uk/details/vaccinations' since it exceeds Excel's limit of 65,530 URLs per worksheet.\n",
            "  warn(\n",
            "/usr/local/lib/python3.11/dist-packages/xlsxwriter/worksheet.py:1267: UserWarning: Ignoring URL 'https://vakcinacija.gov.rs/' since it exceeds Excel's limit of 65,530 URLs per worksheet.\n",
            "  warn(\n",
            "/usr/local/lib/python3.11/dist-packages/xlsxwriter/worksheet.py:1267: UserWarning: Ignoring URL 'https://data.gov.sg/dataset/covid-19-vaccination' since it exceeds Excel's limit of 65,530 URLs per worksheet.\n",
            "  warn(\n",
            "/usr/local/lib/python3.11/dist-packages/xlsxwriter/worksheet.py:1267: UserWarning: Ignoring URL 'https://github.com/Institut-Zdravotnych-Analyz/covid19-data/raw/main/Vaccination/OpenData_Slovakia_Vaccination_AgeGroup_District.csv' since it exceeds Excel's limit of 65,530 URLs per worksheet.\n",
            "  warn(\n",
            "/usr/local/lib/python3.11/dist-packages/xlsxwriter/worksheet.py:1267: UserWarning: Ignoring URL 'https://covid-19.sledilnik.org/sl/stats' since it exceeds Excel's limit of 65,530 URLs per worksheet.\n",
            "  warn(\n",
            "/usr/local/lib/python3.11/dist-packages/xlsxwriter/worksheet.py:1267: UserWarning: Ignoring URL 'https://sacoronavirus.co.za/latest-vaccine-statistics/' since it exceeds Excel's limit of 65,530 URLs per worksheet.\n",
            "  warn(\n",
            "/usr/local/lib/python3.11/dist-packages/xlsxwriter/worksheet.py:1267: UserWarning: Ignoring URL 'https://ncv.kdca.go.kr/' since it exceeds Excel's limit of 65,530 URLs per worksheet.\n",
            "  warn(\n",
            "/usr/local/lib/python3.11/dist-packages/xlsxwriter/worksheet.py:1267: UserWarning: Ignoring URL 'https://www.mscbs.gob.es/profesionales/saludPublica/ccayes/alertasActual/nCov/documentos/Informe_Comunicacion_20220325.ods' since it exceeds Excel's limit of 65,530 URLs per worksheet.\n",
            "  warn(\n",
            "/usr/local/lib/python3.11/dist-packages/xlsxwriter/worksheet.py:1267: UserWarning: Ignoring URL 'https://www.epid.gov.lk/web/images/pdf/corona_vaccination/covid_vaccination_2022-03_22.pdf' since it exceeds Excel's limit of 65,530 URLs per worksheet.\n",
            "  warn(\n",
            "/usr/local/lib/python3.11/dist-packages/xlsxwriter/worksheet.py:1267: UserWarning: Ignoring URL 'https://laatjevaccineren.sr/' since it exceeds Excel's limit of 65,530 URLs per worksheet.\n",
            "  warn(\n",
            "/usr/local/lib/python3.11/dist-packages/xlsxwriter/worksheet.py:1267: UserWarning: Ignoring URL 'https://fohm.se/smittskydd-beredskap/utbrott/aktuella-utbrott/covid-19/statistik-och-analyser/statistik-over-registrerade-vaccinationer-covid-19/' since it exceeds Excel's limit of 65,530 URLs per worksheet.\n",
            "  warn(\n",
            "/usr/local/lib/python3.11/dist-packages/xlsxwriter/worksheet.py:1267: UserWarning: Ignoring URL 'https://opendata.swiss/en/dataset/covid-19-schweiz?detGeo=CH' since it exceeds Excel's limit of 65,530 URLs per worksheet.\n",
            "  warn(\n",
            "/usr/local/lib/python3.11/dist-packages/xlsxwriter/worksheet.py:1267: UserWarning: Ignoring URL 'https://www.cdc.gov.tw/Category/Page/9jFXNbCe-sFK9EImRRi2Og' since it exceeds Excel's limit of 65,530 URLs per worksheet.\n",
            "  warn(\n",
            "/usr/local/lib/python3.11/dist-packages/xlsxwriter/worksheet.py:1267: UserWarning: Ignoring URL 'https://ddc.moph.go.th/covid19-dashboard/' since it exceeds Excel's limit of 65,530 URLs per worksheet.\n",
            "  warn(\n",
            "/usr/local/lib/python3.11/dist-packages/xlsxwriter/worksheet.py:1267: UserWarning: Ignoring URL 'https://services3.arcgis.com/x3I4DqUw3b3MfTwQ/arcgis/rest/services/service_7a519502598f492a9094fd0ad503cf80/FeatureServer/0/query' since it exceeds Excel's limit of 65,530 URLs per worksheet.\n",
            "  warn(\n",
            "/usr/local/lib/python3.11/dist-packages/xlsxwriter/worksheet.py:1267: UserWarning: Ignoring URL 'https://web.facebook.com/santetunisie.rns.tn/posts/339797681524034?__cft__[0]=AZUiZe_DZCgQaUfW53dSTtXxKD5Vmq3M4OkNzKUMnMjzyKYqwPgH6EV-do3PCuT4TqokRZFYjLLshZ87APo1I0dbZHgTHn-95N8CB7Crpo5q1AShf3f9AQYWATKZCptNluocUhFJ8tKk3Z4cIg3qRVhQ&__tn__=%2CO%2CP-R' since it exceeds Excel's limit of 65,530 URLs per worksheet.\n",
            "  warn(\n",
            "/usr/local/lib/python3.11/dist-packages/xlsxwriter/worksheet.py:1267: UserWarning: Ignoring URL 'https://covid19asi.saglik.gov.tr/' since it exceeds Excel's limit of 65,530 URLs per worksheet.\n",
            "  warn(\n",
            "/usr/local/lib/python3.11/dist-packages/xlsxwriter/worksheet.py:1267: UserWarning: Ignoring URL 'https://health-security.rnbo.gov.ua' since it exceeds Excel's limit of 65,530 URLs per worksheet.\n",
            "  warn(\n",
            "/usr/local/lib/python3.11/dist-packages/xlsxwriter/worksheet.py:1267: UserWarning: Ignoring URL 'https://fcsc.gov.ae/en-us/Pages/Covid19/UAE-Covid-19-Updates.aspx' since it exceeds Excel's limit of 65,530 URLs per worksheet.\n",
            "  warn(\n",
            "/usr/local/lib/python3.11/dist-packages/xlsxwriter/worksheet.py:1267: UserWarning: Ignoring URL 'https://data.cdc.gov/Vaccinations/COVID-19-Vaccination-Trends-in-the-United-States-N/rh2h-3yt2' since it exceeds Excel's limit of 65,530 URLs per worksheet.\n",
            "  warn(\n",
            "/usr/local/lib/python3.11/dist-packages/xlsxwriter/worksheet.py:1267: UserWarning: Ignoring URL 'https://monitor.uruguaysevacuna.gub.uy/' since it exceeds Excel's limit of 65,530 URLs per worksheet.\n",
            "  warn(\n",
            "/usr/local/lib/python3.11/dist-packages/xlsxwriter/worksheet.py:1267: UserWarning: Ignoring URL 'https://covid19.gov.vn/ngay-23-3-so-mac-moi-covid-19-giam-con-127883-ca-tuyen-quang-bo-sung-gan-13000-f0-171220323181603013.htm' since it exceeds Excel's limit of 65,530 URLs per worksheet.\n",
            "  warn(\n",
            "/usr/local/lib/python3.11/dist-packages/xlsxwriter/worksheet.py:1267: UserWarning: Ignoring URL 'https://rtc-planning.maps.arcgis.com/apps/dashboards/3b3a01c1d8444932ba075fb44b119b63' since it exceeds Excel's limit of 65,530 URLs per worksheet.\n",
            "  warn(\n",
            "/usr/local/lib/python3.11/dist-packages/xlsxwriter/worksheet.py:1267: UserWarning: Ignoring URL 'https://www.arcgis.com/home/webmap/viewer.html?url=https://services9.arcgis.com/DnERH4rcjw7NU6lv/ArcGIS/rest/services/Vaccine_Distribution_Program/FeatureServer&source=sd' since it exceeds Excel's limit of 65,530 URLs per worksheet.\n",
            "  warn(\n"
          ]
        },
        {
          "output_type": "stream",
          "name": "stdout",
          "text": [
            "✅ Archivo 'resultadosReto.xlsx' creado exitosamente.\n"
          ]
        }
      ]
    }
  ]
}